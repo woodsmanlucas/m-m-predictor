{
 "cells": [
  {
   "cell_type": "code",
   "execution_count": 1,
   "id": "8d2ffc09-279b-4353-879a-c2b66ef14d42",
   "metadata": {},
   "outputs": [],
   "source": [
    "import PIL.Image, PIL.ImageFont, PIL.ImageDraw\n",
    "import numpy as np\n",
    "from keras.utils import load_img, img_to_array"
   ]
  },
  {
   "cell_type": "code",
   "execution_count": 15,
   "id": "23bc6dd6-7d9b-43b9-b99e-74c8bee13fa4",
   "metadata": {},
   "outputs": [],
   "source": [
    "img_height = 3024\n",
    "img_width = 3024\n",
    "\n",
    "img = load_img('./test_images/IMG_1341.jpg', target_size=(img_width, img_height))\n",
    "x = img_to_array(img)\n",
    "\n",
    "for i in range(0, img_width - 100, 50):\n",
    "    for j in range(0, img_height - 100, 50):\n",
    "        topI = 100 + i\n",
    "        topJ = 100 + j\n",
    "        croppedImg = x[i:topI,j:topJ,:]\n",
    "        \n",
    "        image_pil = PIL.Image.fromarray(np.uint8(croppedImg))\n",
    "        \n",
    "        name = \"./output/d_\" + str(i) + \"_\" + str(j) + \".jpg\"\n",
    "        image_pil.save(name)"
   ]
  },
  {
   "cell_type": "code",
   "execution_count": null,
   "id": "1e09206e-868b-4a4a-abed-eb165a4b40b3",
   "metadata": {},
   "outputs": [],
   "source": []
  }
 ],
 "metadata": {
  "kernelspec": {
   "display_name": "Python 3 (ipykernel)",
   "language": "python",
   "name": "python3"
  },
  "language_info": {
   "codemirror_mode": {
    "name": "ipython",
    "version": 3
   },
   "file_extension": ".py",
   "mimetype": "text/x-python",
   "name": "python",
   "nbconvert_exporter": "python",
   "pygments_lexer": "ipython3",
   "version": "3.10.8"
  }
 },
 "nbformat": 4,
 "nbformat_minor": 5
}
