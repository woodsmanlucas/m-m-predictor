{
 "cells": [
  {
   "cell_type": "markdown",
   "id": "d6cd38e4-200c-4f21-a17c-e9d0a235a384",
   "metadata": {},
   "source": [
    "## Image Classification and Object Localization\n",
    "\n",
    "In this lab, you'll build a CNN from scratch to:\n",
    "  - classify the main subject in an image\n",
    "  - localize it by drawing bounding boxes around it.\n",
    "  \n",
    "You'll use the MNIST dataset to synthesize a custom dataset for the task:\n",
    "  - Place each \"digit\" image on a black canvas of width 75 x 75 at random locations.\n",
    "  - Calculate the corresponding bounding boxes for those digits.\n",
    "  \n",
    "The bounding box prediction can be modeled as a \"regression\" task which means that the model will predict a numeric value (as opposed to a category).\n",
    "\n",
    "## Imports"
   ]
  },
  {
   "cell_type": "code",
   "execution_count": 2,
   "id": "8d90206a-ff1a-4564-8dd2-0f141e6bbc48",
   "metadata": {},
   "outputs": [
    {
     "name": "stdout",
     "output_type": "stream",
     "text": [
      "Tensorflow version 2.9.0\n"
     ]
    }
   ],
   "source": [
    "import os, re, time, json\n",
    "import PIL.Image, PIL.ImageFont, PIL.ImageDraw\n",
    "import numpy as np\n",
    "\n",
    "import tensorflow as tf\n",
    "from matplotlib import pyplot as plt\n",
    "\n",
    "print(\"Tensorflow version \" + tf.__version__)"
   ]
  },
  {
   "cell_type": "markdown",
   "id": "02f6c113-f73a-4b88-8d01-d25b11772f1a",
   "metadata": {},
   "source": [
    "## Visualization Utilities\n",
    "\n",
    "These functions are used to draw bounding boxes around the digits.\n",
    "\n",
    "### Plot Utilites for Bounding Boxes [Run ME]"
   ]
  },
  {
   "cell_type": "code",
   "execution_count": 31,
   "id": "346991bf-ef82-45c0-a6ae-71ea29f29218",
   "metadata": {},
   "outputs": [],
   "source": [
    "#@title Plot Utilities for Bounding Boxes [RUN ME]\n",
    "\n",
    "im_width = 500\n",
    "im_height = 500\n",
    "use_normalized_coordinates = True\n",
    "\n",
    "def draw_bounding_boxes_on_image_array(image,\n",
    "                                       boxes,\n",
    "                                       color=[],\n",
    "                                       thickness=1,\n",
    "                                       display_str_list=()):\n",
    "  \"\"\"Draws bounding boxes on image (numpy array).\n",
    "  Args:\n",
    "    image: a numpy array object.\n",
    "    boxes: a 2 dimensional numpy array of [N, 4]: (ymin, xmin, ymax, xmax).\n",
    "           The coordinates are in normalized format between [0, 1].\n",
    "    color: color to draw bounding box. Default is red.\n",
    "    thickness: line thickness. Default value is 4.\n",
    "    display_str_list_list: a list of strings for each bounding box.\n",
    "  Raises:\n",
    "    ValueError: if boxes is not a [N, 4] array\n",
    "  \"\"\"\n",
    "  image_pil = PIL.Image.fromarray(image)\n",
    "  rgbimg = PIL.Image.new(\"RGBA\", image_pil.size)\n",
    "  rgbimg.paste(image_pil)\n",
    "  draw_bounding_boxes_on_image(rgbimg, boxes, color, thickness,\n",
    "                               display_str_list)\n",
    "  return np.array(rgbimg)\n",
    "  \n",
    "\n",
    "def draw_bounding_boxes_on_image(image,\n",
    "                                 boxes,\n",
    "                                 color=[],\n",
    "                                 thickness=1,\n",
    "                                 display_str_list=()):\n",
    "  \"\"\"Draws bounding boxes on image.\n",
    "  Args:\n",
    "    image: a PIL.Image object.\n",
    "    boxes: a 2 dimensional numpy array of [N, 4]: (ymin, xmin, ymax, xmax).\n",
    "           The coordinates are in normalized format between [0, 1].\n",
    "    color: color to draw bounding box. Default is red.\n",
    "    thickness: line thickness. Default value is 4.\n",
    "    display_str_list: a list of strings for each bounding box.\n",
    "                           \n",
    "  Raises:\n",
    "    ValueError: if boxes is not a [N, 4] array\n",
    "  \"\"\"\n",
    "  boxes_shape = boxes.shape\n",
    "  if not boxes_shape:\n",
    "    return\n",
    "  if len(boxes_shape) != 2 or boxes_shape[1] != 4:\n",
    "    raise ValueError('Input must be of size [N, 4]')\n",
    "  for i in range(boxes_shape[0]):\n",
    "    draw_bounding_box_on_image(image, boxes[i, 1], boxes[i, 0], boxes[i, 3],\n",
    "                               boxes[i, 2], color[i], thickness, display_str_list[i])\n",
    "        \n",
    "def draw_bounding_box_on_image(image,\n",
    "                               ymin,\n",
    "                               xmin,\n",
    "                               ymax,\n",
    "                               xmax,\n",
    "                               color='red',\n",
    "                               thickness=3,\n",
    "                               display_str=None,\n",
    "                               use_normalized_coordinates=True):\n",
    "  \"\"\"Adds a bounding box to an image.\n",
    "  Bounding box coordinates can be specified in either absolute (pixel) or\n",
    "  normalized coordinates by setting the use_normalized_coordinates argument.\n",
    "  Args:\n",
    "    image: a PIL.Image object.\n",
    "    ymin: ymin of bounding box.\n",
    "    xmin: xmin of bounding box.\n",
    "    ymax: ymax of bounding box.\n",
    "    xmax: xmax of bounding box.\n",
    "    color: color to draw bounding box. Default is red.\n",
    "    thickness: line thickness. Default value is 4.\n",
    "    display_str_list: string to display in box\n",
    "    use_normalized_coordinates: If True (default), treat coordinates\n",
    "      ymin, xmin, ymax, xmax as relative to the image.  Otherwise treat\n",
    "      coordinates as absolute.\n",
    "  \"\"\"\n",
    "  draw = PIL.ImageDraw.Draw(image)\n",
    "  im_width, im_height = image.size\n",
    "  if use_normalized_coordinates:\n",
    "    (left, right, top, bottom) = (xmin * im_width, xmax * im_width,\n",
    "                                  ymin * im_height, ymax * im_height)\n",
    "  else:\n",
    "    (left, right, top, bottom) = (xmin, xmax, ymin, ymax)\n",
    "  draw.line([(left, top), (left, bottom), (right, bottom),\n",
    "             (right, top), (left, top)], width=thickness, fill=color)\n",
    "  \n"
   ]
  },
  {
   "cell_type": "markdown",
   "id": "95659471-c169-4e24-af84-b0eebced8c22",
   "metadata": {},
   "source": [
    "These utilites are used to visualize the data and predictions\n",
    "\n",
    "## Visulaiztion Utilities [RUN ME]"
   ]
  },
  {
   "cell_type": "code",
   "execution_count": 4,
   "id": "00b1472f-67aa-4a2b-a82d-148c7fa8efba",
   "metadata": {},
   "outputs": [],
   "source": [
    "#@title Visualization Utilities [RUN ME]\n",
    "\"\"\"\n",
    "This cell contains helper functions used for visualization\n",
    "and downloads only. \n",
    "\n",
    "You can skip reading it, as there is very\n",
    "little Keras or Tensorflow related code here.\n",
    "\"\"\"\n",
    "\n",
    "# Matplotlib config\n",
    "plt.rc('image', cmap='gray')\n",
    "plt.rc('grid', linewidth=0)\n",
    "plt.rc('xtick', top=False, bottom=False, labelsize='large')\n",
    "plt.rc('ytick', left=False, right=False, labelsize='large')\n",
    "plt.rc('axes', facecolor='F8F8F8', titlesize=\"large\", edgecolor='white')\n",
    "plt.rc('text', color='a8151a')\n",
    "plt.rc('figure', facecolor='F0F0F0')# Matplotlib fonts\n",
    "MATPLOTLIB_FONT_DIR = os.path.join(os.path.dirname(plt.__file__), \"mpl-data/fonts/ttf\")\n",
    "\n",
    "# create digits from local fonts for testing\n",
    "def create_digits_from_local_fonts(n):\n",
    "  font_labels = []\n",
    "  img = PIL.Image.new('LA', (500*n, 500), color = (0,255)) # format 'LA': black in channel 0, alpha in channel 1\n",
    "  font1 = PIL.ImageFont.truetype(os.path.join(MATPLOTLIB_FONT_DIR, 'DejaVuSansMono-Oblique.ttf'), 25)\n",
    "  font2 = PIL.ImageFont.truetype(os.path.join(MATPLOTLIB_FONT_DIR, 'STIXGeneral.ttf'), 25)\n",
    "  d = PIL.ImageDraw.Draw(img)\n",
    "  for i in range(n):\n",
    "    font_labels.append(i%10)\n",
    "    d.text((7+i*500,0 if i<10 else -4), str(i%10), fill=(255,255), font=font1 if i<10 else font2)\n",
    "  font_digits = np.array(img.getdata(), np.float32)[:,0] / 255.0 # black in channel 0, alpha in channel 1 (discarded)\n",
    "  font_digits = np.reshape(np.stack(np.split(np.reshape(font_digits, [75, 75*n]), n, axis=1), axis=0), [n, 75*75])\n",
    "  return font_digits, font_labels\n",
    "\n",
    "\n",
    "# utility to display a row of digits with their predictions\n",
    "def display_digits_with_boxes(digits, predictions, labels, pred_bboxes, bboxes, iou, title):\n",
    "\n",
    "  n = 10\n",
    "\n",
    "  indexes = np.random.choice(len(predictions), size=n)\n",
    "  n_digits = digits[indexes]\n",
    "  n_predictions = predictions[indexes]\n",
    "  n_labels = labels[indexes]\n",
    "\n",
    "  n_iou = []\n",
    "  if len(iou) > 0:\n",
    "    n_iou = iou[indexes]\n",
    "\n",
    "  if (len(pred_bboxes) > 0):\n",
    "    n_pred_bboxes = pred_bboxes[indexes,:]\n",
    "\n",
    "  if (len(bboxes) > 0):\n",
    "    n_bboxes = bboxes[indexes,:]\n",
    "\n",
    "\n",
    "  n_digits = n_digits * 255.0\n",
    "  print(n_digits.shape)\n",
    "  n_digits = n_digits.reshape(n, 500, 500, 3)\n",
    "  fig = plt.figure(figsize=(20, 4))\n",
    "  plt.title(title)\n",
    "  plt.yticks([])\n",
    "  plt.xticks([])\n",
    "  \n",
    "  for i in range(10):\n",
    "    ax = fig.add_subplot(1, 10, i+1)\n",
    "    bboxes_to_plot = []\n",
    "    if (len(pred_bboxes) > i):\n",
    "      bboxes_to_plot.append(n_pred_bboxes[i])\n",
    "    \n",
    "    if (len(bboxes) > i):\n",
    "      bboxes_to_plot.append(n_bboxes[i])\n",
    "\n",
    "    img_to_draw = draw_bounding_boxes_on_image_array(image=np.uint8(n_digits[i]), boxes=np.asarray(bboxes_to_plot), color=['red', 'green'], display_str_list=[\"true\", \"pred\"])\n",
    "    plt.xlabel(n_predictions[i])\n",
    "    plt.xticks([])\n",
    "    plt.yticks([])\n",
    "    \n",
    "    if n_predictions[i] != n_labels[i]:\n",
    "      ax.xaxis.label.set_color('red')\n",
    "\n",
    "    \n",
    "    \n",
    "    plt.imshow(img_to_draw)\n",
    "\n",
    "    if len(iou) > i :\n",
    "      color = \"black\"\n",
    "      if (n_iou[i][0] < iou_threshold):\n",
    "        color = \"red\"\n",
    "      ax.text(0.2, -0.3, \"iou: %s\" %(n_iou[i][0]), color=color, transform=ax.transAxes)\n",
    "\n",
    "\n",
    "# utility to display training and validation curves\n",
    "def plot_metrics(metric_name, title, ylim=5):\n",
    "  plt.title(title)\n",
    "  plt.ylim(0,ylim)\n",
    "  plt.plot(history.history[metric_name],color='blue',label=metric_name)\n",
    "  plt.plot(history.history['val_' + metric_name],color='green',label='val_' + metric_name)"
   ]
  },
  {
   "cell_type": "code",
   "execution_count": 5,
   "id": "73cfe2c4-7240-44dd-ad88-55e4fdbc1e63",
   "metadata": {},
   "outputs": [
    {
     "name": "stdout",
     "output_type": "stream",
     "text": [
      "[LogicalDevice(name='/device:GPU:0', device_type='GPU')]\n",
      "Metal device set to: Apple M1\n"
     ]
    },
    {
     "name": "stderr",
     "output_type": "stream",
     "text": [
      "2022-12-21 16:14:24.869980: I tensorflow/core/common_runtime/pluggable_device/pluggable_device_factory.cc:305] Could not identify NUMA node of platform GPU ID 0, defaulting to 0. Your kernel may not have been built with NUMA support.\n",
      "2022-12-21 16:14:24.870984: I tensorflow/core/common_runtime/pluggable_device/pluggable_device_factory.cc:271] Created TensorFlow device (/job:localhost/replica:0/task:0/device:GPU:0 with 0 MB memory) -> physical PluggableDevice (device: 0, name: METAL, pci bus id: <undefined>)\n"
     ]
    }
   ],
   "source": [
    "print(tf.config.experimental.list_logical_devices(\"GPU\"))\n",
    "\n",
    "strategy = tf.distribute.get_strategy()"
   ]
  },
  {
   "cell_type": "markdown",
   "id": "63e4721c-b37f-4d5a-aa69-96328c83decd",
   "metadata": {},
   "source": [
    "## Parameters\n",
    "\n",
    "The global batch size is the batch size per replica (64 in this case) times the number of replicas in the distribution strategy"
   ]
  },
  {
   "cell_type": "code",
   "execution_count": 6,
   "id": "167566de-2c1a-456f-b343-6f93b73302d5",
   "metadata": {},
   "outputs": [],
   "source": [
    "BATCH_SIZE = 64 * strategy.num_replicas_in_sync # Gobal batch size.\n",
    "# The global batch size will be automatically sharded across all\n",
    "# replicas by the tf.data.Dataset API. A single TPU has 8 cores.\n",
    "# The best practice is to scale the batch size by the number of\n",
    "# replicas (cores). The learning rate should be increased as well."
   ]
  },
  {
   "cell_type": "markdown",
   "id": "f17741dc-be8e-4410-a2fb-491a23bcd90b",
   "metadata": {},
   "source": [
    "## Loading an Preprocessing the Dataset\n",
    "\n",
    "Define some helper functions that will pre-process your data:\n",
    "  - `read_image_tfds`: ramdomly overlays the \"digit\" image on top of a larger canvas.\n",
    "  - `get_training_dataset`:loads data and splits it to get the training set.\n",
    "  - `get_validation_dataset`: loads and splits the data to get the validation set."
   ]
  },
  {
   "cell_type": "code",
   "execution_count": 7,
   "id": "7c264759-be4a-4e8b-b20d-338e6ecbb9e1",
   "metadata": {},
   "outputs": [],
   "source": [
    "import os\n",
    "\n",
    "# This should be updated\n",
    "root_dir = '/Users/lucas/Data_Science_Portfolio/M&M project/M&M_images_cropped'\n",
    "\n",
    "validation_dir = os.path.join(root_dir, 'validation')\n",
    "training_dir = os.path.join(root_dir, 'training')"
   ]
  },
  {
   "cell_type": "code",
   "execution_count": 51,
   "id": "ddeebc91-d13b-4af2-bdc9-3812ae601dd1",
   "metadata": {},
   "outputs": [],
   "source": [
    "image = PIL.Image.open(os.path.join(training_dir, 'M&Ms/4.jpg'))"
   ]
  },
  {
   "cell_type": "code",
   "execution_count": 11,
   "id": "b9aa4dfb-00a2-4602-8b37-2f423944e6d4",
   "metadata": {},
   "outputs": [
    {
     "name": "stdout",
     "output_type": "stream",
     "text": [
      "[[[0.78823529 0.74509804 0.65882353]\n",
      "  [0.79215686 0.74901961 0.6627451 ]\n",
      "  [0.79215686 0.74901961 0.6627451 ]\n",
      "  ...\n",
      "  [0.6627451  0.61960784 0.54117647]\n",
      "  [0.65882353 0.61568627 0.5372549 ]\n",
      "  [0.65882353 0.61568627 0.5372549 ]]\n",
      "\n",
      " [[0.79215686 0.74901961 0.6627451 ]\n",
      "  [0.79607843 0.75294118 0.66666667]\n",
      "  [0.8        0.75686275 0.67058824]\n",
      "  ...\n",
      "  [0.6627451  0.61960784 0.54117647]\n",
      "  [0.66666667 0.62352941 0.54509804]\n",
      "  [0.66666667 0.62352941 0.54509804]]\n",
      "\n",
      " [[0.78431373 0.74117647 0.65490196]\n",
      "  [0.78823529 0.74509804 0.65882353]\n",
      "  [0.79607843 0.75294118 0.66666667]\n",
      "  ...\n",
      "  [0.6627451  0.61960784 0.54117647]\n",
      "  [0.6627451  0.61960784 0.54117647]\n",
      "  [0.66666667 0.62352941 0.54509804]]\n",
      "\n",
      " ...\n",
      "\n",
      " [[0.78431373 0.74117647 0.6627451 ]\n",
      "  [0.78039216 0.7372549  0.65882353]\n",
      "  [0.78039216 0.7372549  0.65882353]\n",
      "  ...\n",
      "  [0.69411765 0.6627451  0.58823529]\n",
      "  [0.69411765 0.6627451  0.58823529]\n",
      "  [0.69411765 0.6627451  0.58823529]]\n",
      "\n",
      " [[0.78431373 0.74117647 0.6627451 ]\n",
      "  [0.78039216 0.7372549  0.65882353]\n",
      "  [0.78039216 0.7372549  0.65882353]\n",
      "  ...\n",
      "  [0.69803922 0.66666667 0.59215686]\n",
      "  [0.69803922 0.66666667 0.59215686]\n",
      "  [0.69803922 0.66666667 0.59215686]]\n",
      "\n",
      " [[0.78039216 0.7372549  0.65882353]\n",
      "  [0.78039216 0.7372549  0.65882353]\n",
      "  [0.78039216 0.7372549  0.65882353]\n",
      "  ...\n",
      "  [0.69803922 0.66666667 0.59215686]\n",
      "  [0.69803922 0.66666667 0.59215686]\n",
      "  [0.69803922 0.66666667 0.59215686]]]\n"
     ]
    }
   ],
   "source": [
    "from numpy import asarray\n",
    "\n",
    "numpydata = asarray(image)\n",
    "\n",
    "print(numpydata/255)"
   ]
  },
  {
   "cell_type": "markdown",
   "id": "d0242c39-d31d-48d4-8adc-8a6d2ba96815",
   "metadata": {},
   "source": [
    "Notice that the array is not normalized so we will have to divide by 255."
   ]
  },
  {
   "cell_type": "code",
   "execution_count": 36,
   "id": "b871d724-a90e-4a70-bd43-4bc2a684c3f5",
   "metadata": {},
   "outputs": [],
   "source": [
    "m_and_ms = os.path.join(training_dir, 'M&Ms')\n",
    "nots = os.path.join(training_dir, 'Not_M&Ms')\n",
    "\n",
    "training_images = np.array([])\n",
    "training_labels = np.array([])"
   ]
  },
  {
   "cell_type": "code",
   "execution_count": 37,
   "id": "bd907626-2282-4b3a-8ea6-a6331c2df02b",
   "metadata": {},
   "outputs": [],
   "source": [
    "for i in os.listdir(m_and_ms):\n",
    "    if i != '.DS_Store':\n",
    "        image = PIL.Image.open(os.path.join(m_and_ms, i))\n",
    "        numpydata = asarray(image)\n",
    "        normalized = numpydata/255\n",
    "        training_images = np.append(training_images, normalized)\n",
    "        training_labels = np.append(training_labels, 1)"
   ]
  },
  {
   "cell_type": "code",
   "execution_count": 18,
   "id": "5367be0c-e952-4060-b977-7577b2c230e1",
   "metadata": {},
   "outputs": [
    {
     "name": "stdout",
     "output_type": "stream",
     "text": [
      "16\n",
      "450000\n"
     ]
    }
   ],
   "source": [
    "print(len(os.listdir(m_and_ms)))\n",
    "print(len(training_images))"
   ]
  },
  {
   "cell_type": "code",
   "execution_count": 38,
   "id": "dcaa1845-03f8-4a39-b896-0b8d879ed07d",
   "metadata": {},
   "outputs": [],
   "source": [
    "for i in os.listdir(nots):\n",
    "    if i != '.DS_Store':\n",
    "        image = PIL.Image.open(os.path.join(nots, i))\n",
    "        numpydata = asarray(image)\n",
    "        normalized = numpydata/255\n",
    "        training_images = np.append(training_images, normalized)\n",
    "        training_labels = np.append(training_labels, 0)"
   ]
  },
  {
   "cell_type": "code",
   "execution_count": 20,
   "id": "02eb8de8-415e-4884-b367-7a12facb0e00",
   "metadata": {},
   "outputs": [
    {
     "name": "stdout",
     "output_type": "stream",
     "text": [
      "10\n"
     ]
    }
   ],
   "source": [
    "print(len(os.listdir(nots)))"
   ]
  },
  {
   "cell_type": "code",
   "execution_count": 39,
   "id": "a5862dec-d338-4676-a07e-ea9f8b1137ee",
   "metadata": {},
   "outputs": [],
   "source": [
    "training_images = np.reshape(training_images, (24, 100, 100, 3))"
   ]
  },
  {
   "cell_type": "code",
   "execution_count": 15,
   "id": "dc9ea9cd-8ee9-4f2c-beb4-e8867cf304f4",
   "metadata": {},
   "outputs": [],
   "source": [
    "from matplotlib import pyplot as plt\n",
    "\n",
    "\n",
    "padded = tf.pad(training_images[0], [[100, 200], [100, 200], [0, 0]], mode=\"CONSTANT\", constant_values=0.9)\n",
    "image_pil = PIL.Image.fromarray(np.uint8(padded*255))\n",
    "\n",
    "image_pil.save(\"confused.jpg\")"
   ]
  },
  {
   "cell_type": "code",
   "execution_count": 41,
   "id": "20adf1d3-3893-424b-b1e2-70eaf7bc629f",
   "metadata": {},
   "outputs": [
    {
     "name": "stdout",
     "output_type": "stream",
     "text": [
      "(24, 500, 500, 3)\n"
     ]
    }
   ],
   "source": [
    "train = np.array([])\n",
    "training_bboxes = np.array([])\n",
    "\n",
    "for i in training_images:\n",
    "    xmin = tf.random.uniform((), 0, 400, dtype=tf.int32)\n",
    "    ymin = tf.random.uniform((), 0, 400, dtype=tf.int32)\n",
    "    xmax = xmin + 100\n",
    "    ymax = ymin + 100\n",
    "    image = tf.pad(i, [[xmin, 500 - xmax], [ymin, 500 - ymax], [0,0]], mode=\"CONSTANT\", constant_values=0.9)\n",
    "    train = np.append(train, image)\n",
    "    training_bboxes = np.append(training_bboxes, [[xmin, ymin, xmax, ymax]])\n",
    "   \n",
    "train = np.reshape(train, (24, 500, 500, 3))\n",
    "print(train.shape)"
   ]
  },
  {
   "cell_type": "code",
   "execution_count": 51,
   "id": "b47e3314-e7c1-4e7c-9ac9-33ca8968f1e1",
   "metadata": {},
   "outputs": [
    {
     "name": "stdout",
     "output_type": "stream",
     "text": [
      "(24, 4)\n",
      "(24, 500, 500, 3)\n",
      "(24,)\n"
     ]
    }
   ],
   "source": [
    "training_bboxes = np.reshape(training_bboxes, (24, 4))\n",
    "print(training_bboxes.shape)\n",
    "\n",
    "print(train.shape)\n",
    "print(training_labels.shape)"
   ]
  },
  {
   "cell_type": "code",
   "execution_count": 42,
   "id": "1a827ea7-613d-4418-8a0c-01cba78ef6ab",
   "metadata": {},
   "outputs": [],
   "source": [
    "m_and_ms = os.path.join(validation_dir, 'M&Ms')\n",
    "nots = os.path.join(validation_dir, 'Not_M&Ms')\n",
    "\n",
    "validation_images = np.array([])\n",
    "validation_labels = np.array([])"
   ]
  },
  {
   "cell_type": "code",
   "execution_count": 43,
   "id": "908675ee-41df-4c72-a23e-47067e7b092b",
   "metadata": {},
   "outputs": [],
   "source": [
    "for i in os.listdir(m_and_ms):\n",
    "    if i != '.DS_Store':\n",
    "        image = PIL.Image.open(os.path.join(m_and_ms, i))\n",
    "        numpydata = asarray(image)\n",
    "        normalized = numpydata/255\n",
    "        validation_images = np.append(training_images, normalized)\n",
    "        validation_labels = np.append(training_labels, 1)"
   ]
  },
  {
   "cell_type": "code",
   "execution_count": 44,
   "id": "f980745a-6262-498a-92f8-9461d5ad3722",
   "metadata": {},
   "outputs": [],
   "source": [
    "for i in os.listdir(nots):\n",
    "    if i != '.DS_Store':\n",
    "        image = PIL.Image.open(os.path.join(nots, i))\n",
    "        numpydata = asarray(image)\n",
    "        normalized = numpydata/255\n",
    "        validation_images = np.append(training_images, normalized)\n",
    "        validation_labels = np.append(training_labels, 0)"
   ]
  },
  {
   "cell_type": "code",
   "execution_count": 45,
   "id": "62c4f20c-7159-4f2e-b487-d70ab4000951",
   "metadata": {},
   "outputs": [],
   "source": [
    "validation_images = np.reshape(validation_images, (25, 100, 100, 3))"
   ]
  },
  {
   "cell_type": "code",
   "execution_count": 46,
   "id": "651127e4-4aa6-48cd-850d-6be652d53aae",
   "metadata": {},
   "outputs": [
    {
     "name": "stdout",
     "output_type": "stream",
     "text": [
      "(25, 500, 500, 3)\n"
     ]
    }
   ],
   "source": [
    "validate = np.array([])\n",
    "validation_bboxes = np.array([])\n",
    "\n",
    "for i in validation_images:\n",
    "    xmin = tf.random.uniform((), 0, 400, dtype=tf.int32)\n",
    "    ymin = tf.random.uniform((), 0, 400, dtype=tf.int32)\n",
    "    xmax = xmin + 100\n",
    "    ymax = ymin + 100\n",
    "    image = tf.pad(i, [[xmin, 500 - xmax], [ymin, 500 - ymax], [0,0]], mode=\"CONSTANT\", constant_values=0.9)\n",
    "    validate = np.append(validate, image)\n",
    "    validation_bboxes = np.append(validation_bboxes, [[xmin, ymin, xmax, ymax]])\n",
    "   \n",
    "validate = np.reshape(validate, (25,  500, 500, 3))\n",
    "print(validate.shape)"
   ]
  },
  {
   "cell_type": "code",
   "execution_count": 47,
   "id": "e4e6a555-de97-47d0-8d5c-e37a3e2157a1",
   "metadata": {},
   "outputs": [
    {
     "name": "stdout",
     "output_type": "stream",
     "text": [
      "(25, 4)\n",
      "(25, 500, 500, 3)\n",
      "(25,)\n"
     ]
    }
   ],
   "source": [
    "validation_bboxes = np.reshape(validation_bboxes, (25, 4))\n",
    "print(validation_bboxes.shape)\n",
    "\n",
    "print(validate.shape)\n",
    "print(validation_labels.shape)"
   ]
  },
  {
   "cell_type": "code",
   "execution_count": 32,
   "id": "e3119f51-354a-4d2e-b53e-570f21fdbe5b",
   "metadata": {},
   "outputs": [
    {
     "name": "stdout",
     "output_type": "stream",
     "text": [
      "(10, 1000, 1000, 3)\n"
     ]
    },
    {
     "data": {
      "image/png": "[encoded data removed]",
      "text/plain": [
       "<Figure size 2000x400 with 11 Axes>"
      ]
     },
     "metadata": {},
     "output_type": "display_data"
    }
   ],
   "source": [
    "display_digits_with_boxes(train, training_labels, training_labels, np.array([]), training_bboxes, np.array([]), \"training digits and their labels\")"
   ]
  },
  {
   "cell_type": "code",
   "execution_count": 24,
   "id": "3c640af4-816b-47d6-ae66-362f7b9d58a8",
   "metadata": {},
   "outputs": [
    {
     "name": "stdout",
     "output_type": "stream",
     "text": [
      "<TensorSliceDataset element_spec={'images': TensorSpec(shape=(1000, 1000, 3), dtype=tf.uint8, name=None), 'labels': TensorSpec(shape=(), dtype=tf.uint8, name=None), 'bounding_boxe': TensorSpec(shape=(4,), dtype=tf.uint8, name=None)}>\n"
     ]
    }
   ],
   "source": [
    "training_dataset = tf.data.Dataset.from_tensor_slices({'images': np.uint8(train), 'labels': np.uint8(training_labels), 'bounding_boxe': np.uint8(training_bboxes)})\n",
    "print(training_dataset)"
   ]
  },
  {
   "cell_type": "code",
   "execution_count": 28,
   "id": "61b0e94d-e43e-4c21-af6d-a721a69e3466",
   "metadata": {},
   "outputs": [
    {
     "name": "stdout",
     "output_type": "stream",
     "text": [
      "<TensorSliceDataset element_spec={'images': TensorSpec(shape=(1000, 1000, 3), dtype=tf.uint8, name=None), 'labels': TensorSpec(shape=(), dtype=tf.uint8, name=None), 'bounding_boxe': TensorSpec(shape=(4,), dtype=tf.uint8, name=None)}>\n"
     ]
    }
   ],
   "source": [
    "validation_dataset = tf.data.Dataset.from_tensor_slices({'images': np.uint8(validate), 'labels': np.uint8(validation_labels), 'bounding_boxe': np.uint8(validation_bboxes)})\n",
    "print(validation_dataset)"
   ]
  },
  {
   "cell_type": "code",
   "execution_count": 56,
   "id": "d51570bb-4232-4784-b280-07f36ea00106",
   "metadata": {},
   "outputs": [
    {
     "name": "stdout",
     "output_type": "stream",
     "text": [
      "Model: \"model_5\"\n",
      "__________________________________________________________________________________________________\n",
      " Layer (type)                   Output Shape         Param #     Connected to                     \n",
      "==================================================================================================\n",
      " images (InputLayer)            [(None, 500, 500, 3  0           []                               \n",
      "                                )]                                                                \n",
      "                                                                                                  \n",
      " conv2d_23 (Conv2D)             (None, 498, 498, 16  448         ['images[0][0]']                 \n",
      "                                )                                                                 \n",
      "                                                                                                  \n",
      " average_pooling2d_23 (AverageP  (None, 124, 124, 16  0          ['conv2d_23[0][0]']              \n",
      " ooling2D)                      )                                                                 \n",
      "                                                                                                  \n",
      " conv2d_24 (Conv2D)             (None, 122, 122, 32  4640        ['average_pooling2d_23[0][0]']   \n",
      "                                )                                                                 \n",
      "                                                                                                  \n",
      " average_pooling2d_24 (AverageP  (None, 30, 30, 32)  0           ['conv2d_24[0][0]']              \n",
      " ooling2D)                                                                                        \n",
      "                                                                                                  \n",
      " conv2d_25 (Conv2D)             (None, 28, 28, 32)   9248        ['average_pooling2d_24[0][0]']   \n",
      "                                                                                                  \n",
      " average_pooling2d_25 (AverageP  (None, 7, 7, 32)    0           ['conv2d_25[0][0]']              \n",
      " ooling2D)                                                                                        \n",
      "                                                                                                  \n",
      " conv2d_26 (Conv2D)             (None, 5, 5, 64)     18496       ['average_pooling2d_25[0][0]']   \n",
      "                                                                                                  \n",
      " average_pooling2d_26 (AverageP  (None, 1, 1, 64)    0           ['conv2d_26[0][0]']              \n",
      " ooling2D)                                                                                        \n",
      "                                                                                                  \n",
      " flatten_5 (Flatten)            (None, 64)           0           ['average_pooling2d_26[0][0]']   \n",
      "                                                                                                  \n",
      " dense_5 (Dense)                (None, 128)          8320        ['flatten_5[0][0]']              \n",
      "                                                                                                  \n",
      " labels (Dense)                 (None, 1)            129         ['dense_5[0][0]']                \n",
      "                                                                                                  \n",
      " bounding_box (Dense)           (None, 4)            516         ['dense_5[0][0]']                \n",
      "                                                                                                  \n",
      "==================================================================================================\n",
      "Total params: 41,797\n",
      "Trainable params: 41,797\n",
      "Non-trainable params: 0\n",
      "__________________________________________________________________________________________________\n"
     ]
    }
   ],
   "source": [
    "'''\n",
    "Feature extractor is the CNN that is made up of convolution and pooling layers.\n",
    "'''\n",
    "def feature_extractor(inputs):\n",
    "    x = tf.keras.layers.Conv2D(16, activation='relu', kernel_size=3, input_shape=(500, 500, 3))(inputs)\n",
    "    x = tf.keras.layers.AveragePooling2D((4, 4))(x)\n",
    "\n",
    "    x = tf.keras.layers.Conv2D(32,kernel_size=3,activation='relu')(x)\n",
    "    x = tf.keras.layers.AveragePooling2D((4, 4))(x)\n",
    "\n",
    "    x = tf.keras.layers.Conv2D(32,kernel_size=3,activation='relu')(x)\n",
    "    x = tf.keras.layers.AveragePooling2D((4, 4))(x)\n",
    "    \n",
    "    x = tf.keras.layers.Conv2D(64,kernel_size=3,activation='relu')(x)\n",
    "    x = tf.keras.layers.AveragePooling2D((4, 4))(x)\n",
    "\n",
    "\n",
    "    return x\n",
    "\n",
    "'''\n",
    "dense_layers adds a flatten and dense layer.\n",
    "This will follow the feature extraction layers\n",
    "'''\n",
    "def dense_layers(inputs):\n",
    "  x = tf.keras.layers.Flatten()(inputs)\n",
    "  x = tf.keras.layers.Dense(128, activation='relu')(x)\n",
    "  return x\n",
    "\n",
    "\n",
    "'''\n",
    "Classifier defines the classification output.\n",
    "This has a set of fully connected layers and a softmax layer.\n",
    "'''\n",
    "def classifier(inputs):\n",
    "\n",
    "  classification_output = tf.keras.layers.Dense(1, activation='sigmoid', name = 'labels')(inputs)\n",
    "  return classification_output\n",
    "\n",
    "\n",
    "'''\n",
    "This function defines the regression output for bounding box prediction. \n",
    "Note that we have four outputs corresponding to (xmin, ymin, xmax, ymax)\n",
    "'''\n",
    "def bounding_box_regression(inputs):\n",
    "    bounding_box_regression_output = tf.keras.layers.Dense(units = '4', name = 'bounding_box')(inputs)\n",
    "    return bounding_box_regression_output\n",
    "\n",
    "\n",
    "def final_model(inputs):\n",
    "    feature_cnn = feature_extractor(inputs)\n",
    "    dense_output = dense_layers(feature_cnn)\n",
    "\n",
    "    '''\n",
    "    The model branches here.  \n",
    "    The dense layer's output gets fed into two branches:\n",
    "    classification_output and bounding_box_output\n",
    "    '''\n",
    "    classification_output = classifier(dense_output)\n",
    "    bounding_box_output = bounding_box_regression(dense_output)\n",
    "\n",
    "    model = tf.keras.Model(inputs = inputs, outputs = [classification_output, bounding_box_output])\n",
    "\n",
    "    return model\n",
    "  \n",
    "\n",
    "def define_and_compile_model(inputs):\n",
    "  model = final_model(inputs)\n",
    "  \n",
    "  model.compile(optimizer='adam', \n",
    "              loss = {'labels' : 'binary_crossentropy',\n",
    "                      'bounding_box' : 'mse'\n",
    "                     },\n",
    "              metrics = {'labels' : 'accuracy',\n",
    "                         'bounding_box' : 'mse'\n",
    "                        })\n",
    "  return model\n",
    "\n",
    "    \n",
    "with strategy.scope():\n",
    "  inputs = tf.keras.layers.Input(shape=(500, 500, 3), name=\"images\")\n",
    "  model = define_and_compile_model(inputs)\n",
    "\n",
    "# print model layers\n",
    "model.summary()"
   ]
  },
  {
   "cell_type": "code",
   "execution_count": 26,
   "id": "9f1e55bc-c640-473d-945c-956c9bd24ec5",
   "metadata": {},
   "outputs": [],
   "source": [
    "def format_y(labels, bounding_boxes):\n",
    "    return labels, bounding_boxes"
   ]
  },
  {
   "cell_type": "code",
   "execution_count": 57,
   "id": "b1a1c5b6-8f61-47a6-a66f-0ede87cd9b39",
   "metadata": {},
   "outputs": [
    {
     "name": "stdout",
     "output_type": "stream",
     "text": [
      "Epoch 1/45\n"
     ]
    },
    {
     "name": "stderr",
     "output_type": "stream",
     "text": [
      "2022-12-27 10:48:41.149231: I tensorflow/core/grappler/optimizers/custom_graph_optimizer_registry.cc:113] Plugin optimizer for device_type GPU is enabled.\n"
     ]
    },
    {
     "name": "stdout",
     "output_type": "stream",
     "text": [
      "1/1 [==============================] - ETA: 0s - loss: 73953.6094 - labels_loss: 0.6798 - bounding_box_loss: 73952.9219 - labels_accuracy: 0.6250 - bounding_box_mse: 73952.9219"
     ]
    },
    {
     "name": "stderr",
     "output_type": "stream",
     "text": [
      "2022-12-27 10:48:43.178353: I tensorflow/core/grappler/optimizers/custom_graph_optimizer_registry.cc:113] Plugin optimizer for device_type GPU is enabled.\n"
     ]
    },
    {
     "name": "stdout",
     "output_type": "stream",
     "text": [
      "1/1 [==============================] - 3s 3s/step - loss: 73953.6094 - labels_loss: 0.6798 - bounding_box_loss: 73952.9219 - labels_accuracy: 0.6250 - bounding_box_mse: 73952.9219 - val_loss: 59765.9648 - val_labels_loss: 0.6945 - val_bounding_box_loss: 59765.2695 - val_labels_accuracy: 0.4000 - val_bounding_box_mse: 59765.2695\n",
      "Epoch 2/45\n",
      "1/1 [==============================] - 0s 448ms/step - loss: 73901.4297 - labels_loss: 0.6946 - bounding_box_loss: 73900.7344 - labels_accuracy: 0.3750 - bounding_box_mse: 73900.7344 - val_loss: 59723.4727 - val_labels_loss: 0.7006 - val_bounding_box_loss: 59722.7734 - val_labels_accuracy: 0.4000 - val_bounding_box_mse: 59722.7773\n",
      "Epoch 3/45\n",
      "1/1 [==============================] - 0s 454ms/step - loss: 73853.7812 - labels_loss: 0.7019 - bounding_box_loss: 73853.0781 - labels_accuracy: 0.3750 - bounding_box_mse: 73853.0781 - val_loss: 59661.9180 - val_labels_loss: 0.7035 - val_bounding_box_loss: 59661.2188 - val_labels_accuracy: 0.4000 - val_bounding_box_mse: 59661.2188\n",
      "Epoch 4/45\n",
      "1/1 [==============================] - 0s 425ms/step - loss: 73784.9688 - labels_loss: 0.7053 - bounding_box_loss: 73784.2656 - labels_accuracy: 0.3750 - bounding_box_mse: 73784.2656 - val_loss: 59568.2148 - val_labels_loss: 0.7058 - val_bounding_box_loss: 59567.5078 - val_labels_accuracy: 0.4000 - val_bounding_box_mse: 59567.5078\n",
      "Epoch 5/45\n",
      "1/1 [==============================] - 0s 418ms/step - loss: 73680.1094 - labels_loss: 0.7078 - bounding_box_loss: 73679.3906 - labels_accuracy: 0.3750 - bounding_box_mse: 73679.3906 - val_loss: 59429.3047 - val_labels_loss: 0.7076 - val_bounding_box_loss: 59428.5977 - val_labels_accuracy: 0.4000 - val_bounding_box_mse: 59428.5977\n",
      "Epoch 6/45\n",
      "1/1 [==============================] - 0s 402ms/step - loss: 73524.4219 - labels_loss: 0.7095 - bounding_box_loss: 73523.7109 - labels_accuracy: 0.3750 - bounding_box_mse: 73523.7109 - val_loss: 59229.4883 - val_labels_loss: 0.7072 - val_bounding_box_loss: 59228.7852 - val_labels_accuracy: 0.4000 - val_bounding_box_mse: 59228.7852\n",
      "Epoch 7/45\n",
      "1/1 [==============================] - 0s 404ms/step - loss: 73300.4531 - labels_loss: 0.7091 - bounding_box_loss: 73299.7422 - labels_accuracy: 0.3750 - bounding_box_mse: 73299.7422 - val_loss: 58947.2383 - val_labels_loss: 0.7026 - val_bounding_box_loss: 58946.5352 - val_labels_accuracy: 0.4000 - val_bounding_box_mse: 58946.5352\n",
      "Epoch 8/45\n",
      "1/1 [==============================] - 0s 405ms/step - loss: 72983.9688 - labels_loss: 0.7037 - bounding_box_loss: 72983.2656 - labels_accuracy: 0.3750 - bounding_box_mse: 72983.2656 - val_loss: 58554.0273 - val_labels_loss: 0.6929 - val_bounding_box_loss: 58553.3398 - val_labels_accuracy: 0.6000 - val_bounding_box_mse: 58553.3398\n",
      "Epoch 9/45\n",
      "1/1 [==============================] - 0s 393ms/step - loss: 72543.0859 - labels_loss: 0.6917 - bounding_box_loss: 72542.3906 - labels_accuracy: 0.6250 - bounding_box_mse: 72542.3906 - val_loss: 58017.4883 - val_labels_loss: 0.6765 - val_bounding_box_loss: 58016.8086 - val_labels_accuracy: 0.6000 - val_bounding_box_mse: 58016.8125\n",
      "Epoch 10/45\n",
      "1/1 [==============================] - 0s 433ms/step - loss: 71941.0625 - labels_loss: 0.6704 - bounding_box_loss: 71940.3906 - labels_accuracy: 0.6250 - bounding_box_mse: 71940.3906 - val_loss: 57288.3555 - val_labels_loss: 0.6751 - val_bounding_box_loss: 57287.6797 - val_labels_accuracy: 0.6000 - val_bounding_box_mse: 57287.6797\n",
      "Epoch 11/45\n",
      "1/1 [==============================] - 0s 388ms/step - loss: 71122.1875 - labels_loss: 0.6620 - bounding_box_loss: 71121.5234 - labels_accuracy: 0.6250 - bounding_box_mse: 71121.5234 - val_loss: 56297.9922 - val_labels_loss: 0.7172 - val_bounding_box_loss: 56297.2734 - val_labels_accuracy: 0.6000 - val_bounding_box_mse: 56297.2773\n",
      "Epoch 12/45\n",
      "1/1 [==============================] - 0s 422ms/step - loss: 70008.5938 - labels_loss: 0.6948 - bounding_box_loss: 70007.8984 - labels_accuracy: 0.6250 - bounding_box_mse: 70007.8984 - val_loss: 54980.2031 - val_labels_loss: 0.8223 - val_bounding_box_loss: 54979.3828 - val_labels_accuracy: 0.6000 - val_bounding_box_mse: 54979.3828\n",
      "Epoch 13/45\n",
      "1/1 [==============================] - 0s 375ms/step - loss: 68525.1797 - labels_loss: 0.7888 - bounding_box_loss: 68524.3906 - labels_accuracy: 0.6250 - bounding_box_mse: 68524.3906 - val_loss: 53257.2734 - val_labels_loss: 1.0143 - val_bounding_box_loss: 53256.2578 - val_labels_accuracy: 0.6000 - val_bounding_box_mse: 53256.2578\n",
      "Epoch 14/45\n",
      "1/1 [==============================] - 0s 414ms/step - loss: 66581.4609 - labels_loss: 0.9684 - bounding_box_loss: 66580.4922 - labels_accuracy: 0.6250 - bounding_box_mse: 66580.4922 - val_loss: 51028.1289 - val_labels_loss: 1.3084 - val_bounding_box_loss: 51026.8203 - val_labels_accuracy: 0.6000 - val_bounding_box_mse: 51026.8203\n",
      "Epoch 15/45\n",
      "1/1 [==============================] - 0s 430ms/step - loss: 64060.3984 - labels_loss: 1.2471 - bounding_box_loss: 64059.1484 - labels_accuracy: 0.6250 - bounding_box_mse: 64059.1484 - val_loss: 48189.0586 - val_labels_loss: 1.7171 - val_bounding_box_loss: 48187.3438 - val_labels_accuracy: 0.6000 - val_bounding_box_mse: 48187.3438\n",
      "Epoch 16/45\n",
      "1/1 [==============================] - 0s 382ms/step - loss: 60838.5742 - labels_loss: 1.6358 - bounding_box_loss: 60836.9375 - labels_accuracy: 0.6250 - bounding_box_mse: 60836.9375 - val_loss: 44650.3789 - val_labels_loss: 2.2286 - val_bounding_box_loss: 44648.1484 - val_labels_accuracy: 0.6000 - val_bounding_box_mse: 44648.1484\n",
      "Epoch 17/45\n",
      "1/1 [==============================] - 0s 466ms/step - loss: 56804.5898 - labels_loss: 2.1227 - bounding_box_loss: 56802.4688 - labels_accuracy: 0.6250 - bounding_box_mse: 56802.4688 - val_loss: 40333.6484 - val_labels_loss: 2.8136 - val_bounding_box_loss: 40330.8359 - val_labels_accuracy: 0.6000 - val_bounding_box_mse: 40330.8359\n",
      "Epoch 18/45\n",
      "1/1 [==============================] - 0s 492ms/step - loss: 51851.9609 - labels_loss: 2.6804 - bounding_box_loss: 51849.2812 - labels_accuracy: 0.6250 - bounding_box_mse: 51849.2812 - val_loss: 35197.8945 - val_labels_loss: 3.5098 - val_bounding_box_loss: 35194.3828 - val_labels_accuracy: 0.6000 - val_bounding_box_mse: 35194.3828\n",
      "Epoch 19/45\n",
      "1/1 [==============================] - 1s 501ms/step - loss: 45902.6992 - labels_loss: 3.3438 - bounding_box_loss: 45899.3555 - labels_accuracy: 0.6250 - bounding_box_mse: 45899.3555 - val_loss: 29278.6914 - val_labels_loss: 4.3170 - val_bounding_box_loss: 29274.3750 - val_labels_accuracy: 0.6000 - val_bounding_box_mse: 29274.3750\n",
      "Epoch 20/45\n",
      "1/1 [==============================] - 0s 393ms/step - loss: 38943.2422 - labels_loss: 4.1150 - bounding_box_loss: 38939.1250 - labels_accuracy: 0.6250 - bounding_box_mse: 38939.1250 - val_loss: 22901.1250 - val_labels_loss: 5.2193 - val_bounding_box_loss: 22895.9043 - val_labels_accuracy: 0.6000 - val_bounding_box_mse: 22895.9062\n",
      "Epoch 21/45\n",
      "1/1 [==============================] - 0s 422ms/step - loss: 31258.3711 - labels_loss: 4.9751 - bounding_box_loss: 31253.3965 - labels_accuracy: 0.6250 - bounding_box_mse: 31253.3965 - val_loss: 16654.2559 - val_labels_loss: 6.2023 - val_bounding_box_loss: 16648.0527 - val_labels_accuracy: 0.6000 - val_bounding_box_mse: 16648.0527\n",
      "Epoch 22/45\n",
      "1/1 [==============================] - 0s 406ms/step - loss: 23375.9727 - labels_loss: 5.9123 - bounding_box_loss: 23370.0586 - labels_accuracy: 0.6250 - bounding_box_mse: 23370.0586 - val_loss: 11750.2451 - val_labels_loss: 7.2497 - val_bounding_box_loss: 11742.9951 - val_labels_accuracy: 0.6000 - val_bounding_box_mse: 11742.9951\n",
      "Epoch 23/45\n",
      "1/1 [==============================] - 0s 471ms/step - loss: 16453.9648 - labels_loss: 6.9101 - bounding_box_loss: 16447.0527 - labels_accuracy: 0.6250 - bounding_box_mse: 16447.0527 - val_loss: 10257.2900 - val_labels_loss: 8.2841 - val_bounding_box_loss: 10249.0059 - val_labels_accuracy: 0.6000 - val_bounding_box_mse: 10249.0059\n",
      "Epoch 24/45\n",
      "1/1 [==============================] - 0s 478ms/step - loss: 12537.9141 - labels_loss: 7.8966 - bounding_box_loss: 12530.0186 - labels_accuracy: 0.6250 - bounding_box_mse: 12530.0176 - val_loss: 14671.7568 - val_labels_loss: 9.0779 - val_bounding_box_loss: 14662.6797 - val_labels_accuracy: 0.6000 - val_bounding_box_mse: 14662.6797\n",
      "Epoch 25/45\n",
      "1/1 [==============================] - 0s 445ms/step - loss: 14287.0527 - labels_loss: 8.6541 - bounding_box_loss: 14278.3975 - labels_accuracy: 0.6250 - bounding_box_mse: 14278.3975 - val_loss: 23328.5410 - val_labels_loss: 8.9544 - val_bounding_box_loss: 23319.5879 - val_labels_accuracy: 0.6000 - val_bounding_box_mse: 23319.5879\n",
      "Epoch 26/45\n",
      "1/1 [==============================] - 1s 573ms/step - loss: 20803.6055 - labels_loss: 8.5381 - bounding_box_loss: 20795.0664 - labels_accuracy: 0.6250 - bounding_box_mse: 20795.0664 - val_loss: 27801.1992 - val_labels_loss: 7.3766 - val_bounding_box_loss: 27793.8242 - val_labels_accuracy: 0.6000 - val_bounding_box_mse: 27793.8242\n",
      "Epoch 27/45\n",
      "1/1 [==============================] - 0s 410ms/step - loss: 24495.2305 - labels_loss: 7.0369 - bounding_box_loss: 24488.1934 - labels_accuracy: 0.6250 - bounding_box_mse: 24488.1914 - val_loss: 25772.4648 - val_labels_loss: 4.9108 - val_bounding_box_loss: 25767.5547 - val_labels_accuracy: 0.6000 - val_bounding_box_mse: 25767.5547\n",
      "Epoch 28/45\n",
      "1/1 [==============================] - 0s 471ms/step - loss: 22824.8047 - labels_loss: 4.6898 - bounding_box_loss: 22820.1152 - labels_accuracy: 0.6250 - bounding_box_mse: 22820.1152 - val_loss: 20516.0059 - val_labels_loss: 2.2587 - val_bounding_box_loss: 20513.7461 - val_labels_accuracy: 0.6000 - val_bounding_box_mse: 20513.7480\n",
      "Epoch 29/45\n",
      "1/1 [==============================] - 0s 369ms/step - loss: 18597.2930 - labels_loss: 2.1624 - bounding_box_loss: 18595.1289 - labels_accuracy: 0.6250 - bounding_box_mse: 18595.1289 - val_loss: 15281.0654 - val_labels_loss: 0.7647 - val_bounding_box_loss: 15280.3008 - val_labels_accuracy: 0.4000 - val_bounding_box_mse: 15280.3018\n",
      "Epoch 30/45\n",
      "1/1 [==============================] - 0s 411ms/step - loss: 14701.6123 - labels_loss: 0.7609 - bounding_box_loss: 14700.8516 - labels_accuracy: 0.3750 - bounding_box_mse: 14700.8516 - val_loss: 11724.0811 - val_labels_loss: 2.7806 - val_bounding_box_loss: 11721.3008 - val_labels_accuracy: 0.4000 - val_bounding_box_mse: 11721.3008\n",
      "Epoch 31/45\n",
      "1/1 [==============================] - 0s 373ms/step - loss: 12535.6289 - labels_loss: 2.8730 - bounding_box_loss: 12532.7559 - labels_accuracy: 0.3750 - bounding_box_mse: 12532.7559 - val_loss: 10071.8242 - val_labels_loss: 3.9472 - val_bounding_box_loss: 10067.8770 - val_labels_accuracy: 0.4000 - val_bounding_box_mse: 10067.8770\n",
      "Epoch 32/45\n",
      "1/1 [==============================] - 0s 402ms/step - loss: 12150.5898 - labels_loss: 4.0922 - bounding_box_loss: 12146.4980 - labels_accuracy: 0.3750 - bounding_box_mse: 12146.4980 - val_loss: 9796.7246 - val_labels_loss: 4.3324 - val_bounding_box_loss: 9792.3926 - val_labels_accuracy: 0.4000 - val_bounding_box_mse: 9792.3926\n",
      "Epoch 33/45\n",
      "1/1 [==============================] - 0s 417ms/step - loss: 12922.2520 - labels_loss: 4.4955 - bounding_box_loss: 12917.7559 - labels_accuracy: 0.3750 - bounding_box_mse: 12917.7559 - val_loss: 10215.5605 - val_labels_loss: 4.2650 - val_bounding_box_loss: 10211.2969 - val_labels_accuracy: 0.4000 - val_bounding_box_mse: 10211.2969\n",
      "Epoch 34/45\n",
      "1/1 [==============================] - 0s 403ms/step - loss: 14133.1045 - labels_loss: 4.4262 - bounding_box_loss: 14128.6777 - labels_accuracy: 0.3750 - bounding_box_mse: 14128.6777 - val_loss: 10797.2256 - val_labels_loss: 3.9282 - val_bounding_box_loss: 10793.2988 - val_labels_accuracy: 0.4000 - val_bounding_box_mse: 10793.2988\n",
      "Epoch 35/45\n",
      "1/1 [==============================] - 0s 397ms/step - loss: 15255.7637 - labels_loss: 4.0753 - bounding_box_loss: 15251.6875 - labels_accuracy: 0.3750 - bounding_box_mse: 15251.6875 - val_loss: 11227.8936 - val_labels_loss: 3.4109 - val_bounding_box_loss: 11224.4824 - val_labels_accuracy: 0.4000 - val_bounding_box_mse: 11224.4824\n",
      "Epoch 36/45\n",
      "1/1 [==============================] - 0s 395ms/step - loss: 15996.8125 - labels_loss: 3.5358 - bounding_box_loss: 15993.2764 - labels_accuracy: 0.3750 - bounding_box_mse: 15993.2764 - val_loss: 11371.2598 - val_labels_loss: 2.7471 - val_bounding_box_loss: 11368.5127 - val_labels_accuracy: 0.4000 - val_bounding_box_mse: 11368.5127\n",
      "Epoch 37/45\n",
      "1/1 [==============================] - 0s 388ms/step - loss: 16244.0576 - labels_loss: 2.8428 - bounding_box_loss: 16241.2139 - labels_accuracy: 0.3750 - bounding_box_mse: 16241.2139 - val_loss: 11213.5176 - val_labels_loss: 1.9513 - val_bounding_box_loss: 11211.5664 - val_labels_accuracy: 0.4000 - val_bounding_box_mse: 11211.5664\n",
      "Epoch 38/45\n",
      "1/1 [==============================] - 0s 367ms/step - loss: 16005.9404 - labels_loss: 2.0111 - bounding_box_loss: 16003.9297 - labels_accuracy: 0.3750 - bounding_box_mse: 16003.9297 - val_loss: 10823.5264 - val_labels_loss: 1.1116 - val_bounding_box_loss: 10822.4150 - val_labels_accuracy: 0.4000 - val_bounding_box_mse: 10822.4150\n",
      "Epoch 39/45\n",
      "1/1 [==============================] - 0s 372ms/step - loss: 15370.8359 - labels_loss: 1.1309 - bounding_box_loss: 15369.7061 - labels_accuracy: 0.3750 - bounding_box_mse: 15369.7051 - val_loss: 10328.5508 - val_labels_loss: 0.6877 - val_bounding_box_loss: 10327.8633 - val_labels_accuracy: 0.6000 - val_bounding_box_mse: 10327.8633\n",
      "Epoch 40/45\n",
      "1/1 [==============================] - 0s 471ms/step - loss: 14484.5977 - labels_loss: 0.6731 - bounding_box_loss: 14483.9248 - labels_accuracy: 0.6250 - bounding_box_mse: 14483.9248 - val_loss: 9894.6572 - val_labels_loss: 1.0814 - val_bounding_box_loss: 9893.5762 - val_labels_accuracy: 0.6000 - val_bounding_box_mse: 9893.5762\n",
      "Epoch 41/45\n",
      "1/1 [==============================] - 0s 444ms/step - loss: 13534.3027 - labels_loss: 1.0381 - bounding_box_loss: 13533.2646 - labels_accuracy: 0.6250 - bounding_box_mse: 13533.2646 - val_loss: 9699.4668 - val_labels_loss: 1.7457 - val_bounding_box_loss: 9697.7217 - val_labels_accuracy: 0.6000 - val_bounding_box_mse: 9697.7217\n",
      "Epoch 42/45\n",
      "1/1 [==============================] - 1s 654ms/step - loss: 12725.2959 - labels_loss: 1.6706 - bounding_box_loss: 12723.6250 - labels_accuracy: 0.6250 - bounding_box_mse: 12723.6250 - val_loss: 9888.7881 - val_labels_loss: 2.3574 - val_bounding_box_loss: 9886.4307 - val_labels_accuracy: 0.6000 - val_bounding_box_mse: 9886.4307\n",
      "Epoch 43/45\n",
      "1/1 [==============================] - 0s 410ms/step - loss: 12242.3701 - labels_loss: 2.2534 - bounding_box_loss: 12240.1162 - labels_accuracy: 0.6250 - bounding_box_mse: 12240.1162 - val_loss: 10512.0664 - val_labels_loss: 2.8258 - val_bounding_box_loss: 10509.2402 - val_labels_accuracy: 0.6000 - val_bounding_box_mse: 10509.2402\n",
      "Epoch 44/45\n",
      "1/1 [==============================] - 0s 410ms/step - loss: 12188.3896 - labels_loss: 2.6997 - bounding_box_loss: 12185.6904 - labels_accuracy: 0.6250 - bounding_box_mse: 12185.6895 - val_loss: 11459.4844 - val_labels_loss: 3.0932 - val_bounding_box_loss: 11456.3926 - val_labels_accuracy: 0.6000 - val_bounding_box_mse: 11456.3926\n",
      "Epoch 45/45\n",
      "1/1 [==============================] - 0s 448ms/step - loss: 12520.2061 - labels_loss: 2.9546 - bounding_box_loss: 12517.2500 - labels_accuracy: 0.6250 - bounding_box_mse: 12517.2500 - val_loss: 12454.5508 - val_labels_loss: 3.1107 - val_bounding_box_loss: 12451.4414 - val_labels_accuracy: 0.6000 - val_bounding_box_mse: 12451.4414\n"
     ]
    }
   ],
   "source": [
    "EPOCHS = 45 # 45\n",
    "steps_per_epoch = 24//BATCH_SIZE  # 60,000 items in this dataset\n",
    "validation_steps = 1\n",
    "\n",
    "history = model.fit(train, y = format_y(training_labels, training_bboxes), epochs=EPOCHS, validation_data=(validate, [validation_labels, validation_bboxes]))"
   ]
  },
  {
   "cell_type": "code",
   "execution_count": null,
   "id": "fa855d15-657d-46fb-b4e0-4e3d51009ba1",
   "metadata": {},
   "outputs": [],
   "source": []
  }
 ],
 "metadata": {
  "kernelspec": {
   "display_name": "Python 3 (ipykernel)",
   "language": "python",
   "name": "python3"
  },
  "language_info": {
   "codemirror_mode": {
    "name": "ipython",
    "version": 3
   },
   "file_extension": ".py",
   "mimetype": "text/x-python",
   "name": "python",
   "nbconvert_exporter": "python",
   "pygments_lexer": "ipython3",
   "version": "3.10.8"
  }
 },
 "nbformat": 4,
 "nbformat_minor": 5
}
